{
  "nbformat": 4,
  "nbformat_minor": 0,
  "metadata": {
    "colab": {
      "provenance": []
    },
    "kernelspec": {
      "name": "python3",
      "display_name": "Python 3"
    },
    "language_info": {
      "name": "python"
    }
  },
  "cells": [
    {
      "cell_type": "markdown",
      "source": [
        "1. Importar todas las librerías necesarias. (+0.15 puntos)\n",
        "2. Inicializar algunas variables que después modificaremos. (+0.15 puntos) texto en negrita\n"
      ],
      "metadata": {
        "id": "LUkWjBeUAx9P"
      }
    },
    {
      "cell_type": "code",
      "source": [
        "import random\n",
        "import pandas as pd\n",
        "import matplotlib.pyplot as plt\n",
        "import seaborn as sns\n",
        "\n",
        "df = None\n",
        "dataset =[]\n"
      ],
      "metadata": {
        "id": "JE85WHvXdTXs"
      },
      "execution_count": 27,
      "outputs": []
    },
    {
      "cell_type": "markdown",
      "source": [
        "3. Crear una función para generar los hostnames en base a unas reglas (+1.5 puntos)\n"
      ],
      "metadata": {
        "id": "IOrTnER4A6c_"
      }
    },
    {
      "cell_type": "code",
      "source": [
        "\n",
        "def set_hostnames(number_of_hosts: int):\n",
        "\n",
        "  hostnames= []\n",
        "  counter = {}\n",
        "\n",
        "\n",
        "  sis_op = ['L', 'S','A','H']\n",
        "  sis_op_probab = [0.4, 0.3, 0.2, 0.1]\n",
        "\n",
        "  entorno = ['D', 'I', 'T', 'S', 'P']\n",
        "  entorno_probab = [0.1, 0.1, 0.25, 0.25, 0.3]\n",
        "\n",
        "  paises = ['NOR', 'FRA', 'ITA', 'ESP', 'DEU', 'IRL']\n",
        "  paises_probab = [0.06, 0.09, 0.16, 0.16, 0.23, 0.30]\n",
        "\n",
        "  for x in range (number_of_hosts):\n",
        "\n",
        "        x1 = random.choices(population = sis_op, weights= sis_op_probab, k=1)[0]\n",
        "        x2 = random.choices(population = entorno, weights= entorno_probab, k=1)[0]\n",
        "        x3 = random.choices(population = paises, weights= paises_probab, k=1)[0]\n",
        "\n",
        "        key = (x1, x2, x3)\n",
        "        if key in counter:\n",
        "            counter[key] += 1\n",
        "        else:\n",
        "            counter[key] = 1\n",
        "\n",
        "        x4 = f\"{counter[key]:03d}\"\n",
        "        hostname = x1 + x2 + x3 + x4\n",
        "        hostnames.append(hostname)\n",
        "\n",
        "\n",
        "  return hostnames\n",
        "\n",
        "for name in set_hostnames(8):\n",
        "    print(name)\n",
        "\n",
        ""
      ],
      "metadata": {
        "colab": {
          "base_uri": "https://localhost:8080/"
        },
        "id": "nZhMS05BrOxe",
        "outputId": "3d688d07-d87b-4f8a-8700-5dbc4792782e"
      },
      "execution_count": 3,
      "outputs": [
        {
          "output_type": "stream",
          "name": "stdout",
          "text": [
            "SPIRL001\n",
            "LPDEU001\n",
            "LTITA001\n",
            "ASIRL001\n",
            "LTIRL001\n",
            "LPFRA001\n",
            "APIRL001\n",
            "SSDEU001\n"
          ]
        }
      ]
    },
    {
      "cell_type": "markdown",
      "source": [
        "4. Crear una función para obtener el nombre del SO. (+0.5 puntos)\n"
      ],
      "metadata": {
        "id": "flmY37cnBOCR"
      }
    },
    {
      "cell_type": "code",
      "source": [
        "def get_os(hostname:str):\n",
        "  if hostname[0] == 'L':\n",
        "    return 'Linux'\n",
        "  elif hostname[0] == 'S':\n",
        "    return 'Solaris'\n",
        "  elif hostname[0] == 'A':\n",
        "    return 'AIX'\n",
        "  elif hostname[0] == 'H':\n",
        "    return 'HP-UX'\n",
        "\n",
        "  else: return 'Unknown'\n",
        "\n",
        "\n",
        "\n",
        "\n"
      ],
      "metadata": {
        "id": "Z0YebcPRDTmG"
      },
      "execution_count": 4,
      "outputs": []
    },
    {
      "cell_type": "code",
      "source": [
        "get_os('LTDEU001')"
      ],
      "metadata": {
        "colab": {
          "base_uri": "https://localhost:8080/",
          "height": 36
        },
        "id": "Iqut7pPvF2ZN",
        "outputId": "a34a8db4-0ca9-4adb-c7c5-e6f79160cb07"
      },
      "execution_count": 5,
      "outputs": [
        {
          "output_type": "execute_result",
          "data": {
            "text/plain": [
              "'Linux'"
            ],
            "application/vnd.google.colaboratory.intrinsic+json": {
              "type": "string"
            }
          },
          "metadata": {},
          "execution_count": 5
        }
      ]
    },
    {
      "cell_type": "markdown",
      "source": [
        "5. Crear una función para obtener el nombre del entorno. (+0.5 puntos)"
      ],
      "metadata": {
        "id": "aDiQqL2CBQrZ"
      }
    },
    {
      "cell_type": "code",
      "source": [
        "def get_environment(hostname:str):\n",
        "  if hostname[1] == 'D':\n",
        "    return 'Development'\n",
        "  elif hostname[1] == 'I':\n",
        "    return 'Integration'\n",
        "  elif hostname[1] == 'T':\n",
        "    return 'Testing'\n",
        "  elif hostname[1] == 'S':\n",
        "    return 'Staging'\n",
        "  elif hostname[1] == 'P':\n",
        "    return 'Production'\n",
        "\n",
        "  else: return 'Unknown'\n"
      ],
      "metadata": {
        "id": "KWED6cFpF9rH"
      },
      "execution_count": 6,
      "outputs": []
    },
    {
      "cell_type": "code",
      "source": [
        "get_environment('LTDEU001')"
      ],
      "metadata": {
        "colab": {
          "base_uri": "https://localhost:8080/",
          "height": 36
        },
        "id": "9S4cr8aAGhFX",
        "outputId": "72e29f88-9322-42a9-ee35-f5c5a6386b7e"
      },
      "execution_count": 7,
      "outputs": [
        {
          "output_type": "execute_result",
          "data": {
            "text/plain": [
              "'Testing'"
            ],
            "application/vnd.google.colaboratory.intrinsic+json": {
              "type": "string"
            }
          },
          "metadata": {},
          "execution_count": 7
        }
      ]
    },
    {
      "cell_type": "markdown",
      "source": [
        "6. Crear una función para obtener el nombre del país. (+0.5 puntos)"
      ],
      "metadata": {
        "id": "zWR0RFomBVKB"
      }
    },
    {
      "cell_type": "code",
      "source": [
        "def get_country(hostname:str):\n",
        "  if hostname[2:5] == 'NOR':\n",
        "    return 'Norway'\n",
        "  elif hostname[2:5] == 'FRA':\n",
        "    return 'France'\n",
        "  elif hostname[2:5] == 'ITA':\n",
        "    return 'Italy'\n",
        "  elif hostname[2:5] == 'ESP':\n",
        "    return 'Spain'\n",
        "  elif hostname[2:5] == 'DEU':\n",
        "    return 'Germany'\n",
        "  elif hostname[2:5] == 'IRL':\n",
        "    return 'Ireland'\n",
        "\n",
        "  else: return 'Unknown'"
      ],
      "metadata": {
        "id": "-kj9VB7CKV4D"
      },
      "execution_count": 8,
      "outputs": []
    },
    {
      "cell_type": "code",
      "source": [
        "get_country('LTDEU001')"
      ],
      "metadata": {
        "colab": {
          "base_uri": "https://localhost:8080/",
          "height": 36
        },
        "id": "vvDjsQ-CLbFd",
        "outputId": "a232a00f-1b1e-4fcd-96b1-692c9efc31d3"
      },
      "execution_count": 11,
      "outputs": [
        {
          "output_type": "execute_result",
          "data": {
            "text/plain": [
              "'Germany'"
            ],
            "application/vnd.google.colaboratory.intrinsic+json": {
              "type": "string"
            }
          },
          "metadata": {},
          "execution_count": 11
        }
      ]
    },
    {
      "cell_type": "markdown",
      "source": [
        "7. Crear una función para generar el DataFrame. (+1 punto)"
      ],
      "metadata": {
        "id": "BEpbCU2gBdPT"
      }
    },
    {
      "cell_type": "code",
      "source": [
        "def set_dataframe(count:int):\n",
        "\n",
        "  global df\n",
        "  hostnames = set_hostnames(count)\n",
        "\n",
        "  for name in hostnames:\n",
        "    Dicc = {'hostname': name,\n",
        "            'os' : get_os(name),\n",
        "            'environment' : get_environment(name),\n",
        "            'country': get_country(name),\n",
        "            'node': int(name[5:])}\n",
        "\n",
        "    dataset.append(Dicc)\n",
        "\n",
        "  df = pd.DataFrame(dataset)\n",
        "\n",
        "  df.to_csv(\"hosts.csv\", index=False, header= True)\n",
        "\n",
        "\n",
        "\n",
        "\n",
        "\n"
      ],
      "metadata": {
        "id": "Y2Vlj4aeLf3s"
      },
      "execution_count": 9,
      "outputs": []
    },
    {
      "cell_type": "markdown",
      "source": [
        "8. Crear el DataFrame. (+0.2 puntos)"
      ],
      "metadata": {
        "id": "_KM5frZDBkfa"
      }
    },
    {
      "cell_type": "code",
      "source": [
        "set_dataframe(1500)\n",
        "print(df)"
      ],
      "metadata": {
        "colab": {
          "base_uri": "https://localhost:8080/"
        },
        "id": "inpHTtyTW389",
        "outputId": "9ec23aa9-2d47-4a03-eb1d-efa13e4d2c59"
      },
      "execution_count": 10,
      "outputs": [
        {
          "output_type": "stream",
          "name": "stdout",
          "text": [
            "      hostname       os  environment  country  node\n",
            "0     ADIRL001      AIX  Development  Ireland     1\n",
            "1     LIIRL001    Linux  Integration  Ireland     1\n",
            "2     HTDEU001    HP-UX      Testing  Germany     1\n",
            "3     LTDEU001    Linux      Testing  Germany     1\n",
            "4     ATITA001      AIX      Testing    Italy     1\n",
            "...        ...      ...          ...      ...   ...\n",
            "1495  ASIRL025      AIX      Staging  Ireland    25\n",
            "1496  SPITA025  Solaris   Production    Italy    25\n",
            "1497  LTESP026    Linux      Testing    Spain    26\n",
            "1498  ASIRL026      AIX      Staging  Ireland    26\n",
            "1499  STITA021  Solaris      Testing    Italy    21\n",
            "\n",
            "[1500 rows x 5 columns]\n"
          ]
        }
      ]
    },
    {
      "cell_type": "markdown",
      "source": [
        "9. Guardar el DataFrame generado en un fichero CSV. (+0.5 puntos)"
      ],
      "metadata": {
        "id": "zs_C1w3eBp81"
      }
    },
    {
      "cell_type": "code",
      "source": [
        "df_hosts = pd.read_csv(\"hosts.csv\", encoding='utf-8', delimiter=',')"
      ],
      "metadata": {
        "id": "icF_mYlL0lzR"
      },
      "execution_count": 11,
      "outputs": []
    },
    {
      "cell_type": "code",
      "source": [
        "df_hosts"
      ],
      "metadata": {
        "colab": {
          "base_uri": "https://localhost:8080/",
          "height": 423
        },
        "id": "VoJslVdt1r8j",
        "outputId": "464f5f90-2eef-4af8-a9f4-2af594c279b5"
      },
      "execution_count": 12,
      "outputs": [
        {
          "output_type": "execute_result",
          "data": {
            "text/plain": [
              "      hostname       os  environment  country  node\n",
              "0     ADIRL001      AIX  Development  Ireland     1\n",
              "1     LIIRL001    Linux  Integration  Ireland     1\n",
              "2     HTDEU001    HP-UX      Testing  Germany     1\n",
              "3     LTDEU001    Linux      Testing  Germany     1\n",
              "4     ATITA001      AIX      Testing    Italy     1\n",
              "...        ...      ...          ...      ...   ...\n",
              "1495  ASIRL025      AIX      Staging  Ireland    25\n",
              "1496  SPITA025  Solaris   Production    Italy    25\n",
              "1497  LTESP026    Linux      Testing    Spain    26\n",
              "1498  ASIRL026      AIX      Staging  Ireland    26\n",
              "1499  STITA021  Solaris      Testing    Italy    21\n",
              "\n",
              "[1500 rows x 5 columns]"
            ],
            "text/html": [
              "\n",
              "  <div id=\"df-2724562b-505d-47c0-b0d1-f846af5bd268\" class=\"colab-df-container\">\n",
              "    <div>\n",
              "<style scoped>\n",
              "    .dataframe tbody tr th:only-of-type {\n",
              "        vertical-align: middle;\n",
              "    }\n",
              "\n",
              "    .dataframe tbody tr th {\n",
              "        vertical-align: top;\n",
              "    }\n",
              "\n",
              "    .dataframe thead th {\n",
              "        text-align: right;\n",
              "    }\n",
              "</style>\n",
              "<table border=\"1\" class=\"dataframe\">\n",
              "  <thead>\n",
              "    <tr style=\"text-align: right;\">\n",
              "      <th></th>\n",
              "      <th>hostname</th>\n",
              "      <th>os</th>\n",
              "      <th>environment</th>\n",
              "      <th>country</th>\n",
              "      <th>node</th>\n",
              "    </tr>\n",
              "  </thead>\n",
              "  <tbody>\n",
              "    <tr>\n",
              "      <th>0</th>\n",
              "      <td>ADIRL001</td>\n",
              "      <td>AIX</td>\n",
              "      <td>Development</td>\n",
              "      <td>Ireland</td>\n",
              "      <td>1</td>\n",
              "    </tr>\n",
              "    <tr>\n",
              "      <th>1</th>\n",
              "      <td>LIIRL001</td>\n",
              "      <td>Linux</td>\n",
              "      <td>Integration</td>\n",
              "      <td>Ireland</td>\n",
              "      <td>1</td>\n",
              "    </tr>\n",
              "    <tr>\n",
              "      <th>2</th>\n",
              "      <td>HTDEU001</td>\n",
              "      <td>HP-UX</td>\n",
              "      <td>Testing</td>\n",
              "      <td>Germany</td>\n",
              "      <td>1</td>\n",
              "    </tr>\n",
              "    <tr>\n",
              "      <th>3</th>\n",
              "      <td>LTDEU001</td>\n",
              "      <td>Linux</td>\n",
              "      <td>Testing</td>\n",
              "      <td>Germany</td>\n",
              "      <td>1</td>\n",
              "    </tr>\n",
              "    <tr>\n",
              "      <th>4</th>\n",
              "      <td>ATITA001</td>\n",
              "      <td>AIX</td>\n",
              "      <td>Testing</td>\n",
              "      <td>Italy</td>\n",
              "      <td>1</td>\n",
              "    </tr>\n",
              "    <tr>\n",
              "      <th>...</th>\n",
              "      <td>...</td>\n",
              "      <td>...</td>\n",
              "      <td>...</td>\n",
              "      <td>...</td>\n",
              "      <td>...</td>\n",
              "    </tr>\n",
              "    <tr>\n",
              "      <th>1495</th>\n",
              "      <td>ASIRL025</td>\n",
              "      <td>AIX</td>\n",
              "      <td>Staging</td>\n",
              "      <td>Ireland</td>\n",
              "      <td>25</td>\n",
              "    </tr>\n",
              "    <tr>\n",
              "      <th>1496</th>\n",
              "      <td>SPITA025</td>\n",
              "      <td>Solaris</td>\n",
              "      <td>Production</td>\n",
              "      <td>Italy</td>\n",
              "      <td>25</td>\n",
              "    </tr>\n",
              "    <tr>\n",
              "      <th>1497</th>\n",
              "      <td>LTESP026</td>\n",
              "      <td>Linux</td>\n",
              "      <td>Testing</td>\n",
              "      <td>Spain</td>\n",
              "      <td>26</td>\n",
              "    </tr>\n",
              "    <tr>\n",
              "      <th>1498</th>\n",
              "      <td>ASIRL026</td>\n",
              "      <td>AIX</td>\n",
              "      <td>Staging</td>\n",
              "      <td>Ireland</td>\n",
              "      <td>26</td>\n",
              "    </tr>\n",
              "    <tr>\n",
              "      <th>1499</th>\n",
              "      <td>STITA021</td>\n",
              "      <td>Solaris</td>\n",
              "      <td>Testing</td>\n",
              "      <td>Italy</td>\n",
              "      <td>21</td>\n",
              "    </tr>\n",
              "  </tbody>\n",
              "</table>\n",
              "<p>1500 rows × 5 columns</p>\n",
              "</div>\n",
              "    <div class=\"colab-df-buttons\">\n",
              "\n",
              "  <div class=\"colab-df-container\">\n",
              "    <button class=\"colab-df-convert\" onclick=\"convertToInteractive('df-2724562b-505d-47c0-b0d1-f846af5bd268')\"\n",
              "            title=\"Convert this dataframe to an interactive table.\"\n",
              "            style=\"display:none;\">\n",
              "\n",
              "  <svg xmlns=\"http://www.w3.org/2000/svg\" height=\"24px\" viewBox=\"0 -960 960 960\">\n",
              "    <path d=\"M120-120v-720h720v720H120Zm60-500h600v-160H180v160Zm220 220h160v-160H400v160Zm0 220h160v-160H400v160ZM180-400h160v-160H180v160Zm440 0h160v-160H620v160ZM180-180h160v-160H180v160Zm440 0h160v-160H620v160Z\"/>\n",
              "  </svg>\n",
              "    </button>\n",
              "\n",
              "  <style>\n",
              "    .colab-df-container {\n",
              "      display:flex;\n",
              "      gap: 12px;\n",
              "    }\n",
              "\n",
              "    .colab-df-convert {\n",
              "      background-color: #E8F0FE;\n",
              "      border: none;\n",
              "      border-radius: 50%;\n",
              "      cursor: pointer;\n",
              "      display: none;\n",
              "      fill: #1967D2;\n",
              "      height: 32px;\n",
              "      padding: 0 0 0 0;\n",
              "      width: 32px;\n",
              "    }\n",
              "\n",
              "    .colab-df-convert:hover {\n",
              "      background-color: #E2EBFA;\n",
              "      box-shadow: 0px 1px 2px rgba(60, 64, 67, 0.3), 0px 1px 3px 1px rgba(60, 64, 67, 0.15);\n",
              "      fill: #174EA6;\n",
              "    }\n",
              "\n",
              "    .colab-df-buttons div {\n",
              "      margin-bottom: 4px;\n",
              "    }\n",
              "\n",
              "    [theme=dark] .colab-df-convert {\n",
              "      background-color: #3B4455;\n",
              "      fill: #D2E3FC;\n",
              "    }\n",
              "\n",
              "    [theme=dark] .colab-df-convert:hover {\n",
              "      background-color: #434B5C;\n",
              "      box-shadow: 0px 1px 3px 1px rgba(0, 0, 0, 0.15);\n",
              "      filter: drop-shadow(0px 1px 2px rgba(0, 0, 0, 0.3));\n",
              "      fill: #FFFFFF;\n",
              "    }\n",
              "  </style>\n",
              "\n",
              "    <script>\n",
              "      const buttonEl =\n",
              "        document.querySelector('#df-2724562b-505d-47c0-b0d1-f846af5bd268 button.colab-df-convert');\n",
              "      buttonEl.style.display =\n",
              "        google.colab.kernel.accessAllowed ? 'block' : 'none';\n",
              "\n",
              "      async function convertToInteractive(key) {\n",
              "        const element = document.querySelector('#df-2724562b-505d-47c0-b0d1-f846af5bd268');\n",
              "        const dataTable =\n",
              "          await google.colab.kernel.invokeFunction('convertToInteractive',\n",
              "                                                    [key], {});\n",
              "        if (!dataTable) return;\n",
              "\n",
              "        const docLinkHtml = 'Like what you see? Visit the ' +\n",
              "          '<a target=\"_blank\" href=https://colab.research.google.com/notebooks/data_table.ipynb>data table notebook</a>'\n",
              "          + ' to learn more about interactive tables.';\n",
              "        element.innerHTML = '';\n",
              "        dataTable['output_type'] = 'display_data';\n",
              "        await google.colab.output.renderOutput(dataTable, element);\n",
              "        const docLink = document.createElement('div');\n",
              "        docLink.innerHTML = docLinkHtml;\n",
              "        element.appendChild(docLink);\n",
              "      }\n",
              "    </script>\n",
              "  </div>\n",
              "\n",
              "\n",
              "<div id=\"df-1c2e418c-d0c6-4105-bc2a-1ce2d8dfe76b\">\n",
              "  <button class=\"colab-df-quickchart\" onclick=\"quickchart('df-1c2e418c-d0c6-4105-bc2a-1ce2d8dfe76b')\"\n",
              "            title=\"Suggest charts\"\n",
              "            style=\"display:none;\">\n",
              "\n",
              "<svg xmlns=\"http://www.w3.org/2000/svg\" height=\"24px\"viewBox=\"0 0 24 24\"\n",
              "     width=\"24px\">\n",
              "    <g>\n",
              "        <path d=\"M19 3H5c-1.1 0-2 .9-2 2v14c0 1.1.9 2 2 2h14c1.1 0 2-.9 2-2V5c0-1.1-.9-2-2-2zM9 17H7v-7h2v7zm4 0h-2V7h2v10zm4 0h-2v-4h2v4z\"/>\n",
              "    </g>\n",
              "</svg>\n",
              "  </button>\n",
              "\n",
              "<style>\n",
              "  .colab-df-quickchart {\n",
              "      --bg-color: #E8F0FE;\n",
              "      --fill-color: #1967D2;\n",
              "      --hover-bg-color: #E2EBFA;\n",
              "      --hover-fill-color: #174EA6;\n",
              "      --disabled-fill-color: #AAA;\n",
              "      --disabled-bg-color: #DDD;\n",
              "  }\n",
              "\n",
              "  [theme=dark] .colab-df-quickchart {\n",
              "      --bg-color: #3B4455;\n",
              "      --fill-color: #D2E3FC;\n",
              "      --hover-bg-color: #434B5C;\n",
              "      --hover-fill-color: #FFFFFF;\n",
              "      --disabled-bg-color: #3B4455;\n",
              "      --disabled-fill-color: #666;\n",
              "  }\n",
              "\n",
              "  .colab-df-quickchart {\n",
              "    background-color: var(--bg-color);\n",
              "    border: none;\n",
              "    border-radius: 50%;\n",
              "    cursor: pointer;\n",
              "    display: none;\n",
              "    fill: var(--fill-color);\n",
              "    height: 32px;\n",
              "    padding: 0;\n",
              "    width: 32px;\n",
              "  }\n",
              "\n",
              "  .colab-df-quickchart:hover {\n",
              "    background-color: var(--hover-bg-color);\n",
              "    box-shadow: 0 1px 2px rgba(60, 64, 67, 0.3), 0 1px 3px 1px rgba(60, 64, 67, 0.15);\n",
              "    fill: var(--button-hover-fill-color);\n",
              "  }\n",
              "\n",
              "  .colab-df-quickchart-complete:disabled,\n",
              "  .colab-df-quickchart-complete:disabled:hover {\n",
              "    background-color: var(--disabled-bg-color);\n",
              "    fill: var(--disabled-fill-color);\n",
              "    box-shadow: none;\n",
              "  }\n",
              "\n",
              "  .colab-df-spinner {\n",
              "    border: 2px solid var(--fill-color);\n",
              "    border-color: transparent;\n",
              "    border-bottom-color: var(--fill-color);\n",
              "    animation:\n",
              "      spin 1s steps(1) infinite;\n",
              "  }\n",
              "\n",
              "  @keyframes spin {\n",
              "    0% {\n",
              "      border-color: transparent;\n",
              "      border-bottom-color: var(--fill-color);\n",
              "      border-left-color: var(--fill-color);\n",
              "    }\n",
              "    20% {\n",
              "      border-color: transparent;\n",
              "      border-left-color: var(--fill-color);\n",
              "      border-top-color: var(--fill-color);\n",
              "    }\n",
              "    30% {\n",
              "      border-color: transparent;\n",
              "      border-left-color: var(--fill-color);\n",
              "      border-top-color: var(--fill-color);\n",
              "      border-right-color: var(--fill-color);\n",
              "    }\n",
              "    40% {\n",
              "      border-color: transparent;\n",
              "      border-right-color: var(--fill-color);\n",
              "      border-top-color: var(--fill-color);\n",
              "    }\n",
              "    60% {\n",
              "      border-color: transparent;\n",
              "      border-right-color: var(--fill-color);\n",
              "    }\n",
              "    80% {\n",
              "      border-color: transparent;\n",
              "      border-right-color: var(--fill-color);\n",
              "      border-bottom-color: var(--fill-color);\n",
              "    }\n",
              "    90% {\n",
              "      border-color: transparent;\n",
              "      border-bottom-color: var(--fill-color);\n",
              "    }\n",
              "  }\n",
              "</style>\n",
              "\n",
              "  <script>\n",
              "    async function quickchart(key) {\n",
              "      const quickchartButtonEl =\n",
              "        document.querySelector('#' + key + ' button');\n",
              "      quickchartButtonEl.disabled = true;  // To prevent multiple clicks.\n",
              "      quickchartButtonEl.classList.add('colab-df-spinner');\n",
              "      try {\n",
              "        const charts = await google.colab.kernel.invokeFunction(\n",
              "            'suggestCharts', [key], {});\n",
              "      } catch (error) {\n",
              "        console.error('Error during call to suggestCharts:', error);\n",
              "      }\n",
              "      quickchartButtonEl.classList.remove('colab-df-spinner');\n",
              "      quickchartButtonEl.classList.add('colab-df-quickchart-complete');\n",
              "    }\n",
              "    (() => {\n",
              "      let quickchartButtonEl =\n",
              "        document.querySelector('#df-1c2e418c-d0c6-4105-bc2a-1ce2d8dfe76b button');\n",
              "      quickchartButtonEl.style.display =\n",
              "        google.colab.kernel.accessAllowed ? 'block' : 'none';\n",
              "    })();\n",
              "  </script>\n",
              "</div>\n",
              "\n",
              "  <div id=\"id_989ced71-efd7-422d-b8d5-177af91ec2c0\">\n",
              "    <style>\n",
              "      .colab-df-generate {\n",
              "        background-color: #E8F0FE;\n",
              "        border: none;\n",
              "        border-radius: 50%;\n",
              "        cursor: pointer;\n",
              "        display: none;\n",
              "        fill: #1967D2;\n",
              "        height: 32px;\n",
              "        padding: 0 0 0 0;\n",
              "        width: 32px;\n",
              "      }\n",
              "\n",
              "      .colab-df-generate:hover {\n",
              "        background-color: #E2EBFA;\n",
              "        box-shadow: 0px 1px 2px rgba(60, 64, 67, 0.3), 0px 1px 3px 1px rgba(60, 64, 67, 0.15);\n",
              "        fill: #174EA6;\n",
              "      }\n",
              "\n",
              "      [theme=dark] .colab-df-generate {\n",
              "        background-color: #3B4455;\n",
              "        fill: #D2E3FC;\n",
              "      }\n",
              "\n",
              "      [theme=dark] .colab-df-generate:hover {\n",
              "        background-color: #434B5C;\n",
              "        box-shadow: 0px 1px 3px 1px rgba(0, 0, 0, 0.15);\n",
              "        filter: drop-shadow(0px 1px 2px rgba(0, 0, 0, 0.3));\n",
              "        fill: #FFFFFF;\n",
              "      }\n",
              "    </style>\n",
              "    <button class=\"colab-df-generate\" onclick=\"generateWithVariable('df_hosts')\"\n",
              "            title=\"Generate code using this dataframe.\"\n",
              "            style=\"display:none;\">\n",
              "\n",
              "  <svg xmlns=\"http://www.w3.org/2000/svg\" height=\"24px\"viewBox=\"0 0 24 24\"\n",
              "       width=\"24px\">\n",
              "    <path d=\"M7,19H8.4L18.45,9,17,7.55,7,17.6ZM5,21V16.75L18.45,3.32a2,2,0,0,1,2.83,0l1.4,1.43a1.91,1.91,0,0,1,.58,1.4,1.91,1.91,0,0,1-.58,1.4L9.25,21ZM18.45,9,17,7.55Zm-12,3A5.31,5.31,0,0,0,4.9,8.1,5.31,5.31,0,0,0,1,6.5,5.31,5.31,0,0,0,4.9,4.9,5.31,5.31,0,0,0,6.5,1,5.31,5.31,0,0,0,8.1,4.9,5.31,5.31,0,0,0,12,6.5,5.46,5.46,0,0,0,6.5,12Z\"/>\n",
              "  </svg>\n",
              "    </button>\n",
              "    <script>\n",
              "      (() => {\n",
              "      const buttonEl =\n",
              "        document.querySelector('#id_989ced71-efd7-422d-b8d5-177af91ec2c0 button.colab-df-generate');\n",
              "      buttonEl.style.display =\n",
              "        google.colab.kernel.accessAllowed ? 'block' : 'none';\n",
              "\n",
              "      buttonEl.onclick = () => {\n",
              "        google.colab.notebook.generateWithVariable('df_hosts');\n",
              "      }\n",
              "      })();\n",
              "    </script>\n",
              "  </div>\n",
              "\n",
              "    </div>\n",
              "  </div>\n"
            ],
            "application/vnd.google.colaboratory.intrinsic+json": {
              "type": "dataframe",
              "variable_name": "df_hosts",
              "summary": "{\n  \"name\": \"df_hosts\",\n  \"rows\": 1500,\n  \"fields\": [\n    {\n      \"column\": \"hostname\",\n      \"properties\": {\n        \"dtype\": \"string\",\n        \"num_unique_values\": 1500,\n        \"samples\": [\n          \"APESP014\",\n          \"ATIRL020\",\n          \"ATESP006\"\n        ],\n        \"semantic_type\": \"\",\n        \"description\": \"\"\n      }\n    },\n    {\n      \"column\": \"os\",\n      \"properties\": {\n        \"dtype\": \"category\",\n        \"num_unique_values\": 4,\n        \"samples\": [\n          \"Linux\",\n          \"Solaris\",\n          \"AIX\"\n        ],\n        \"semantic_type\": \"\",\n        \"description\": \"\"\n      }\n    },\n    {\n      \"column\": \"environment\",\n      \"properties\": {\n        \"dtype\": \"category\",\n        \"num_unique_values\": 5,\n        \"samples\": [\n          \"Integration\",\n          \"Production\",\n          \"Testing\"\n        ],\n        \"semantic_type\": \"\",\n        \"description\": \"\"\n      }\n    },\n    {\n      \"column\": \"country\",\n      \"properties\": {\n        \"dtype\": \"category\",\n        \"num_unique_values\": 6,\n        \"samples\": [\n          \"Ireland\",\n          \"Germany\",\n          \"Norway\"\n        ],\n        \"semantic_type\": \"\",\n        \"description\": \"\"\n      }\n    },\n    {\n      \"column\": \"node\",\n      \"properties\": {\n        \"dtype\": \"number\",\n        \"std\": 11,\n        \"min\": 1,\n        \"max\": 66,\n        \"num_unique_values\": 66,\n        \"samples\": [\n          55,\n          63,\n          1\n        ],\n        \"semantic_type\": \"\",\n        \"description\": \"\"\n      }\n    }\n  ]\n}"
            }
          },
          "metadata": {},
          "execution_count": 12
        }
      ]
    },
    {
      "cell_type": "markdown",
      "source": [
        "10.Generar un único gráfico, agrupando para cada país (country) los\n",
        "entornos (environment). (+0.5 puntos)\n",
        "Se debe utilizar la función unstack y se debe generar un plot de tipo\n",
        "barras (kind=bar). Debe quedar (más o menos) así:\n"
      ],
      "metadata": {
        "id": "uiz9dLL9CCL-"
      }
    },
    {
      "cell_type": "code",
      "source": [
        "data = df_hosts.groupby(['country','environment']).size().unstack()\n",
        "data.plot(kind=\"bar\", title=\"Entornos por pais\")\n",
        "plt.xlabel('Country')\n",
        "plt.ylabel('Environment')\n",
        "plt.tight_layout()\n",
        "plt.show()\n"
      ],
      "metadata": {
        "colab": {
          "base_uri": "https://localhost:8080/",
          "height": 487
        },
        "id": "DTTQ8VyH8Psm",
        "outputId": "bfa7559a-b56f-47e4-f0a8-1f1d0fd93807"
      },
      "execution_count": 14,
      "outputs": [
        {
          "output_type": "display_data",
          "data": {
            "text/plain": [
              "<Figure size 640x480 with 1 Axes>"
            ],
            "image/png": "[encoded data removed]"
          },
          "metadata": {}
        }
      ]
    },
    {
      "cell_type": "markdown",
      "source": [
        "11.Crear una figura con 4 gráficos en una malla de 2 filas y 2 columnas.\n",
        "(+4.5 puntos)"
      ],
      "metadata": {
        "id": "80JkwsddCHpn"
      }
    },
    {
      "cell_type": "markdown",
      "source": [
        "En la esquina superior izquierda debe aparecer un gráfico cuyo\n",
        "título sea Type of OS grouped by country. Debe ser un gráfico de\n",
        "barras horizontales que representen una agrupación (groupby) por\n",
        "cada país (country) de los sistemas operativos (os) que tiene. Se\n",
        "debe utilizar la función unstack y el plot debe ser de tipo barras\n",
        "horizontales (barh).\n",
        "\n",
        "En la esquina superior derecha debe aparecer un gráfico cuyo\n",
        "título sea Total Operating Systems. Debe representar la cantidad\n",
        "total de sistemas operativos (os) que hay en el DataFrame. Se\n",
        "debe utilizar la función groupby y el gráfico debe ser de tipo tarta\n",
        "(pie). Como etiquetas (labels) debe mostrar el número de\n",
        "sistemas operativos de cada tipo, y además debe mostrarse una\n",
        "leyenda (legend) en la esquina superior derecha en la que\n",
        "aparezca para cada sistema operativo el porcentaje existente en\n",
        "el DataFrame.\n",
        "\n",
        "\n",
        "En la esquina inferior izquierda debe aparecer un gráfico cuyo\n",
        "título sea Total hosts by country. Debe ser un gráfico de barras\n",
        "horizontales que representen la cantidad total de hosts por cada\n",
        "país, para ello se debe utilizar la función value_counts() sobre los\n",
        "países (country) del DataFrame. El gráfico generado debe incluir\n",
        "como etiqueta en el eje x el texto Number of hosts y como etiqueta\n",
        "del eje y el texto Country. También se ha de incluir el número total\n",
        "de hosts que tiene cada país a la derecha de cada barra\n",
        "horizontal. Además, se ha de añadir como valor máximo del eje x\n",
        "un número equivalente al número total de hosts de la barra que\n",
        "más host tenga +100, de este modo se verá un pequeño margen\n",
        "a la derecha que hará que se visualice un poco mejor.\n",
        "Opcionalmente se puede añadir con la librería seaborn una paleta\n",
        "de colores (color_palette) que podemos utilizar para darle un\n",
        "color degradado a las barras.\n",
        "\n",
        "\n",
        "En la esquina inferior derecha debe aparecer un gráfico cuyo\n",
        "título sea Hosts by country grouped by environment. Debe\n",
        "representar una agrupación (groupby) de hosts que hay por cada\n",
        "país (country) y entorno (environment). Se debe utilizar la función\n",
        "unstack(0) y el plot debe ser de tipo barras (bar). Como etiqueta\n",
        "del eje y se debe añadir el texto Number of hosts.\n",
        "Finalmente se deben ajustar los márgenes y espacios entre los\n",
        "gráficos (fig.tight_layout())."
      ],
      "metadata": {
        "id": "-i8PheKuKAAA"
      }
    },
    {
      "cell_type": "code",
      "source": [
        "fig, axs = plt.subplots(2,2, figsize=(14, 10))\n",
        "\n",
        "\n",
        "#0,0\n",
        "\n",
        "data = df_hosts.groupby(['country','os']).size().unstack()\n",
        "data.plot(kind=\"barh\", ax=axs[0,0], title=\"Type of OS grouped by country\")\n",
        "axs[0, 0].set_xlabel(\"Number of OS\")\n",
        "axs[0, 0].set_ylabel(\"Country\")\n",
        "axs[0, 0].legend(title=\"OS\",fontsize=8)\n",
        "\n",
        "\n",
        "#0,1\n",
        "\n",
        "os_count = df_hosts.groupby('os').size()\n",
        "total= os_count.sum()\n",
        "labels_with_percent = []\n",
        "for os_name, count in os_count.items():\n",
        "    percentage = count / total * 100\n",
        "    label = f\"{os_name} - {percentage:.1f}%\"\n",
        "    labels_with_percent.append(label)\n",
        "axs[0, 1].pie(os_count, labels= os_count.values)\n",
        "axs[0, 1].set_title(\"Total Operating Systems\")\n",
        "axs[0, 1].legend(labels_with_percent, title=\"OS\", loc='upper right', bbox_to_anchor=(1.2, 1), fontsize=8)\n",
        "\n",
        "\n",
        "#1,0\n",
        "\n",
        "host_count = df_hosts.groupby('country')['hostname'].count().sort_values(ascending=False)\n",
        "host_count.plot(kind=\"barh\", ax=axs[1, 0], title=\"Total Hosts by Country\", color=sns.color_palette(\"YlGn_r\", len(host_count)))\n",
        "axs[1, 0].set_xlabel(\"Number of host\")\n",
        "axs[1, 0].set_ylabel(\"Country\")\n",
        "for bar in axs[1, 0].containers[0]:\n",
        "    width = bar.get_width()\n",
        "    label = f'{width:.0f}'\n",
        "    axs[1, 0].text(width + 5, bar.get_y() + bar.get_height() / 2, label, va='center')\n",
        "axs[1, 0].set_xlim(0, host_count.max() + 100)\n",
        "\n",
        "\n",
        "#1,1\n",
        "\n",
        "data = df_hosts.groupby(['environment', 'country'])['hostname'].count().unstack()\n",
        "data.plot(kind=\"bar\", ax=axs[1,1], title=\"Hosts by Country grouped by environment\")\n",
        "axs[1, 1].set_xlabel(\"Number of host\")\n",
        "axs[1, 1].set_ylabel(\"Country\")\n",
        "axs[1, 1].legend(title=\"Number of host\",loc='upper left', fontsize=8)\n",
        "\n",
        "\n",
        "\n",
        "plt.tight_layout()\n",
        "plt.show()"
      ],
      "metadata": {
        "colab": {
          "base_uri": "https://localhost:8080/",
          "height": 1000
        },
        "id": "Hys0Pi_q_1_S",
        "outputId": "79672539-2667-4627-da09-e6fd9b1a7032"
      },
      "execution_count": 49,
      "outputs": [
        {
          "output_type": "display_data",
          "data": {
            "text/plain": [
              "<Figure size 1400x1000 with 4 Axes>"
            ],
            "image/png": "[encoded data removed]"
          },
          "metadata": {}
        }
      ]
    }
  ]
}